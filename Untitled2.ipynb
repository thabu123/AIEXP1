{
  "nbformat": 4,
  "nbformat_minor": 0,
  "metadata": {
    "colab": {
      "name": "Untitled2.ipynb",
      "provenance": [],
      "authorship_tag": "ABX9TyPhYlJ/q2FkBzYTtbKQVucT",
      "include_colab_link": true
    },
    "kernelspec": {
      "name": "python3",
      "display_name": "Python 3"
    },
    "language_info": {
      "name": "python"
    }
  },
  "cells": [
    {
      "cell_type": "markdown",
      "metadata": {
        "id": "view-in-github",
        "colab_type": "text"
      },
      "source": [
        "<a href=\"https://colab.research.google.com/github/thabu123/AITTAEXP/blob/main/Untitled2.ipynb\" target=\"_parent\"><img src=\"https://colab.research.google.com/assets/colab-badge.svg\" alt=\"Open In Colab\"/></a>"
      ]
    },
    {
      "cell_type": "code",
      "metadata": {
        "colab": {
          "base_uri": "https://localhost:8080/"
        },
        "id": "F5u0dbg4JAAv",
        "outputId": "89358df2-0bb0-4d19-dee6-c576124bbec2"
      },
      "source": [
        "\n",
        "# enter data cell by cell, with as few statements in one cell, as possible \n",
        "\n",
        "\n",
        "!pip install chatterbot\n",
        "\n",
        "!pip install chatterbot_corpus\n",
        "\n",
        "# Importing chatterbot\n",
        "from chatterbot import ChatBot\n",
        "\n",
        "# Create object of ChatBot class\n",
        "bot = ChatBot('Buddy')\n",
        "\n",
        "# Create object of ChatBot class with Storage Adapter\n",
        "bot = ChatBot(\n",
        "'Buddy',\n",
        "    storage_adapter='chatterbot.storage.SQLStorageAdapter',\n",
        "    database_uri='sqlite:///database.sqlite3'\n",
        ")\n",
        "\n",
        "\n",
        "\n",
        "# Create object of ChatBot class with Logic Adapter\n",
        "bot = ChatBot(\n",
        "'Buddy',  \n",
        "    logic_adapters=[\n",
        "'chatterbot.logic.BestMatch',\n",
        "'chatterbot.logic.TimeLogicAdapter'],\n",
        ")\n",
        "\n",
        "from chatterbot import ChatBot\n",
        "from chatterbot.trainers import ChatterBotCorpusTrainer\n",
        "\n",
        "chatbot = ChatBot('Ron Obvious')\n",
        "from chatterbot.trainers import ChatterBotCorpusTrainer\n",
        "\n",
        "# Create a new trainer for the chatbot\n",
        "trainer = ChatterBotCorpusTrainer(chatbot)\n",
        "# Train based on the english corpustrainer.train(\"chatterbot.corpus.english\")\n",
        "# Train based on english greetings corpustrainer.train(\"chatterbot.corpus.english.greetings\")\n",
        "# Train based on the english conversations corpustrainer.train(\"chatterbot.corpus.english.conversations\")\n",
        "\n",
        "\n",
        "\n",
        "\n",
        "name=input(\"Enter Your Name: \")\n",
        "print(\"This is AITTA Chatbot Service. How can I help you...\")\n",
        "\n",
        "\n",
        "while True:\n",
        "    request=input(name+':')\n",
        "    if request=='Bye'or request =='bye':\n",
        "        print('Bot: Bye')\n",
        "        break\n",
        "    else:\n",
        "        response=bot.get_response(request)\n",
        "        print('Bot:',response)\n",
        "\n",
        "\n",
        "\n",
        "\n"
      ],
      "execution_count": 3,
      "outputs": [
        {
          "output_type": "stream",
          "text": [
            "Collecting chatterbot\n",
            "\u001b[?25l  Downloading https://files.pythonhosted.org/packages/7c/21/85c2b114bd9dfabdd46ba58fc4519acdaed45d8c70898d40079e37a45e67/ChatterBot-1.0.8-py2.py3-none-any.whl (63kB)\n",
            "\r\u001b[K     |█████▏                          | 10kB 16.2MB/s eta 0:00:01\r\u001b[K     |██████████▎                     | 20kB 21.3MB/s eta 0:00:01\r\u001b[K     |███████████████▌                | 30kB 10.3MB/s eta 0:00:01\r\u001b[K     |████████████████████▋           | 40kB 9.6MB/s eta 0:00:01\r\u001b[K     |█████████████████████████▊      | 51kB 8.1MB/s eta 0:00:01\r\u001b[K     |███████████████████████████████ | 61kB 7.9MB/s eta 0:00:01\r\u001b[K     |████████████████████████████████| 71kB 4.7MB/s \n",
            "\u001b[?25hCollecting mathparse<0.2,>=0.1\n",
            "  Downloading https://files.pythonhosted.org/packages/c3/e5/4910fb85950cb960fcf3f5aabe1c8e55f5c9201788a1c1302b570a7e1f84/mathparse-0.1.2-py3-none-any.whl\n",
            "Collecting sqlalchemy<1.4,>=1.3\n",
            "\u001b[?25l  Downloading https://files.pythonhosted.org/packages/31/44/a86070dda790ce94cd7d9fb9281cd614c7d30850ed774ace9a84d0d5d491/SQLAlchemy-1.3.24-cp37-cp37m-manylinux2010_x86_64.whl (1.3MB)\n",
            "\u001b[K     |████████████████████████████████| 1.3MB 10.8MB/s \n",
            "\u001b[?25hRequirement already satisfied: python-dateutil<2.9,>=2.8 in /usr/local/lib/python3.7/dist-packages (from chatterbot) (2.8.1)\n",
            "Requirement already satisfied: pytz in /usr/local/lib/python3.7/dist-packages (from chatterbot) (2018.9)\n",
            "Requirement already satisfied: six>=1.5 in /usr/local/lib/python3.7/dist-packages (from python-dateutil<2.9,>=2.8->chatterbot) (1.15.0)\n",
            "Installing collected packages: mathparse, sqlalchemy, chatterbot\n",
            "  Found existing installation: SQLAlchemy 1.4.3\n",
            "    Uninstalling SQLAlchemy-1.4.3:\n",
            "      Successfully uninstalled SQLAlchemy-1.4.3\n",
            "Successfully installed chatterbot-1.0.8 mathparse-0.1.2 sqlalchemy-1.3.24\n",
            "Collecting chatterbot_corpus\n",
            "\u001b[?25l  Downloading https://files.pythonhosted.org/packages/ed/19/f8b41daf36fe4b0f43e283a820362ffdb2c1128600ab4ee187e84262fa4d/chatterbot_corpus-1.2.0-py2.py3-none-any.whl (117kB)\n",
            "\u001b[K     |████████████████████████████████| 122kB 7.7MB/s \n",
            "\u001b[?25hRequirement already satisfied: PyYAML<4.0,>=3.12 in /usr/local/lib/python3.7/dist-packages (from chatterbot_corpus) (3.13)\n",
            "Installing collected packages: chatterbot-corpus\n",
            "Successfully installed chatterbot-corpus-1.2.0\n",
            "Enter Your Name: thabbu\n",
            "This is AITTA Chatbot Service. How can I help you...\n",
            "thabbu:make biryani \n",
            "Bot: The current time is 05:00 AM\n",
            "thabbu:ur waste\n",
            "Bot: The current time is 05:00 AM\n",
            "thabbu:bye\n",
            "Bot: Bye\n"
          ],
          "name": "stdout"
        }
      ]
    }
  ]
}